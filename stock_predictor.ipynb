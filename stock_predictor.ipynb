{
 "cells": [
  {
   "cell_type": "markdown",
   "id": "f0d3ec7b",
   "metadata": {},
   "source": [
    "# A Quantitative Analyst's Workflow for AAPL\n",
    "\n",
    "---\n",
    "\n",
    "## Section 1 : Why??\n",
    "\n",
    "Sebelum kita analisis dan buat model, kita perlu ngerti dulu, kenapa kita mau prediksi harga saham AAPL??\n",
    "\n",
    "### 1.1. Tujuan - Capital Gain & Risk Management\n",
    "\n",
    "balik ke dasar dalam finance dan investment, invest ke capital market itu tujuannya yang gedein uang kita. nah model disini dipake untuk bantu analisis informasi atau data yang ada dengan lebih efisien dan otomatis. of course model gaakan sempurna, karena pada dasarnya sulit untuk mebemukan pola dalam human behavior penggerak ekonomi. tapi setidaknya ini bisa dijadikan bantuan dalam management investment portofolio kita.\n",
    "\n",
    "### 1.2. Apa yang Mau di Prediksi??\n",
    "\n",
    "Kita mau bikin model yang bisa prediksi close value dari AAPL keesokan harinya.  secara simpel itu kaya gini\n",
    "\n",
    "$Prediksi Harga Besok = fungsi(Data Haei Ini)$\n",
    "\n",
    "atau :\n",
    "\n",
    "$Predicted\\_Close(t+1) = f(X_t)$\n",
    "\n",
    "\n",
    "\n",
    "Btw, kita cuma pake data sampe hari ini buat nebak harga besok. Gak boleh tau data besok buat bisa prediksi hari ini, ini disebut lookahead bias, dan ini haram hukumnya di finance modelling.\n",
    "\n",
    "so, fitur yang kita pake untuk prediksi adalah\n",
    "\n",
    "- harga pembukaan, tertinggi, terendah, close, dan volume (OHCLC).\n",
    "- semua data diambil dari data hari hari sebelumnya, sampai hari ini.\n",
    "\n",
    "### 1.3. Datanya dari mana?? `yfinance` jawabannya\n",
    "\n",
    "Kita akan menggunakan data harian OHLCV (Open, High, Low, Close, Volume) untuk saham 'AAPL', menggunakan `yfinance`. kita bakal ambil data selama 5 tahun terakhir, kenapa 5 tahun?. well, 5 tahun adalah waktu yang udah cukup untuk dapet pola perubahan pasar, naik turun, big event kaya covid dan kenaikan suku bunga. dan juga ga terlalu lama yang bikin data ga relevan ikut masuk dan bikin model bias atau pusing nangkep pola.\n",
    "\n",
    "#### Dependencies \n"
   ]
  },
  {
   "cell_type": "code",
   "execution_count": null,
   "id": "b65ae931",
   "metadata": {},
   "outputs": [],
   "source": [
    "import yfinance as yf\n",
    "import pandas as pd\n",
    "import numpy as np\n",
    "import matplotlib.pyplot as plt\n",
    "import seaborn as sns\n",
    "from statsmodels.tsa.seasonal import seasonal_decompose\n",
    "from statsmodels.tsa.stattools import adfuller\n",
    "from statsmodels.graphics.tsaplots import plot_acf, plot_pacf\n",
    "from statsmodels.tsa.arima.model import ARIMA\n",
    "from sklearn.preprocessing import MinMaxScaler\n",
    "from sklearn.metrics import mean_squared_error, mean_absolute_error, mean_absolute_percentage_error\n",
    "from xgboost import XGBRegressor\n",
    "import shap\n",
    "from sklearn.pipeline import Pipeline\n",
    "from sklearn.base import BaseEstimator, TransformerMixin\n",
    "\n",
    "plt.style.use('seaborn-v0_8-whitegrid')\n",
    "plt.rcParams['figure.figsize'] = (15, 7)\n",
    "\n",
    "print(\"Semua library berhasil di-import.\")"
   ]
  },
  {
   "cell_type": "markdown",
   "id": "9da41db4",
   "metadata": {},
   "source": [
    "#### Data"
   ]
  },
  {
   "cell_type": "code",
   "execution_count": null,
   "id": "5a9c2712",
   "metadata": {},
   "outputs": [],
   "source": [
    "# ticker dan periode waktu\n",
    "ticker = 'AAPL'\n",
    "start_date = '2019-01-01'\n",
    "end_date = pd.to_datetime('today').strftime('%Y-%m-%d')\n",
    "\n",
    "try:\n",
    "    data = yf.download(ticker, start=start_date, end=end_date)\n",
    "    if data.empty:\n",
    "        raise ValueError(\"Datanya kosong. Mungkin ticker-nya salah atau gak ada data.\")\n",
    "    print(f\"Data {ticker} berhasil diambil dari {start_date} sampai {end_date}.\")\n",
    "    print(\"Informasi umum data:\")\n",
    "    data.info()\n",
    "except Exception as e:\n",
    "    print(f\"Error ambil data: {e}\")\n",
    "\n",
    "# Lihat isi data\n",
    "print(\"\\nLima baris pertama:\")\n",
    "display(data.head())\n",
    "\n",
    "print(\"\\nStatistik umum:\")\n",
    "display(data.describe())"
   ]
  },
  {
   "cell_type": "markdown",
   "id": "ec2a0b7a",
   "metadata": {},
   "source": []
  }
 ],
 "metadata": {
  "kernelspec": {
   "display_name": "myvenv",
   "language": "python",
   "name": "python3"
  },
  "language_info": {
   "codemirror_mode": {
    "name": "ipython",
    "version": 3
   },
   "file_extension": ".py",
   "mimetype": "text/x-python",
   "name": "python",
   "nbconvert_exporter": "python",
   "pygments_lexer": "ipython3",
   "version": "3.10.13"
  }
 },
 "nbformat": 4,
 "nbformat_minor": 5
}
